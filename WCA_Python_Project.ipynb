{
 "cells": [
  {
   "cell_type": "markdown",
   "id": "fd7b469f-267a-4d8c-b5c2-e883f5e61601",
   "metadata": {},
   "source": [
    "First we will import the necessary libraries."
   ]
  },
  {
   "cell_type": "code",
   "execution_count": 40,
   "id": "6a6f7a1b-40ae-417e-b0f2-098ce9cff42b",
   "metadata": {},
   "outputs": [],
   "source": [
    "import pandas as pd\n",
    "import os"
   ]
  },
  {
   "cell_type": "markdown",
   "id": "ae424b20-1525-4a01-b262-dd1e86fadcf7",
   "metadata": {},
   "source": [
    "Next we need to read the data into pandas dataframes. The data was exported from the WCA website in tsv format. The necessary data is contained within 3 seperate tsv files we need to read. \"results\" contains info on individual completed solves, \"persons\" contains info on every person who has competed in a WCA competition, and \"competitions\" contains info on competitions. "
   ]
  },
  {
   "cell_type": "code",
   "execution_count": 60,
   "id": "35baf77f-eb11-4a90-90bc-714a1ddedf38",
   "metadata": {},
   "outputs": [
    {
     "name": "stdout",
     "output_type": "stream",
     "text": [
      "  competitionId eventId roundTypeId  pos  best  average  \\\n",
      "0  LyonOpen2007     333           1   15  1968     2128   \n",
      "1  LyonOpen2007     333           1   16  1731     2140   \n",
      "2  LyonOpen2007     333           1   17  2305     2637   \n",
      "3  LyonOpen2007     333           1   18  2452     2637   \n",
      "4  LyonOpen2007     333           1   19  2677     2906   \n",
      "\n",
      "                personName    personId formatId  value1  value2  value3  \\\n",
      "0            Etienne Amany  2007AMAN01        a    1968    2203    2138   \n",
      "1           Thomas Rouault  2004ROUA01        a    2222    2153    1731   \n",
      "2  Antoine Simon-Chautemps  2005SIMO01        a    3430    2581    2540   \n",
      "3           Irène Mallordy  2007MALL01        a    2715    2452    2868   \n",
      "4       Marlène Desmaisons  2007DESM01        a    2921    3184    2891   \n",
      "\n",
      "   value4  value5 regionalSingleRecord regionalAverageRecord personCountryId  \n",
      "0    2139    2108                  AfR                   AfR   Cote d_Ivoire  \n",
      "1    2334    2046                  NaN                   NaN          France  \n",
      "2    2789    2305                  NaN                   NaN          France  \n",
      "3    2632    2564                  NaN                   NaN          France  \n",
      "4    2677    2907                  NaN                   NaN          France  \n"
     ]
    }
   ],
   "source": [
    "results = pd.read_csv(r'Data/WCA_export_Results.tsv', sep='\\t')\n",
    "print(results.head())"
   ]
  },
  {
   "cell_type": "code",
   "execution_count": 43,
   "id": "44fa8703-2964-4082-8805-99dca2a66c58",
   "metadata": {},
   "outputs": [
    {
     "name": "stdout",
     "output_type": "stream",
     "text": [
      "   subid              name       countryId gender          id\n",
      "0      1     Jozsef Borsos          Serbia      m  1982BORS01\n",
      "1      1  Roland Brinkmann         Germany      m  1982BRIN01\n",
      "2      1   Julian Chilvers  United Kingdom      m  1982CHIL01\n",
      "3      1  Jessica Fridrich             USA      f  1982FRID01\n",
      "4      2  Jessica Fridrich  Czech Republic      f  1982FRID01\n"
     ]
    }
   ],
   "source": [
    "persons = pd.read_csv(\"WCA_export_Persons.tsv\", sep=\"\\t\")\n",
    "print(persons.head())"
   ]
  },
  {
   "cell_type": "code",
   "execution_count": 44,
   "id": "8cacec5e-d8aa-4155-8f0e-dc3cf96c5781",
   "metadata": {},
   "outputs": [
    {
     "name": "stdout",
     "output_type": "stream",
     "text": [
      "                             id                               name  \\\n",
      "0                 100Merito2018                   100º Mérito 2018   \n",
      "1    100YearsRepublicAnkara2023     100 Years Republic Ankara 2023   \n",
      "2  100YearsRepublicIstanbul2023   100 Years Republic İstanbul 2023   \n",
      "3      100YilMBACubeWeekend2023     100. Yıl MBA Cube Weekend 2023   \n",
      "4    10AniversarioGuatemala2023  Décimo Aniversario Guatemala 2023   \n",
      "\n",
      "         cityName  countryId  \\\n",
      "0  Santarém, Pará     Brazil   \n",
      "1          Ankara     Turkey   \n",
      "2        İstanbul     Turkey   \n",
      "3        İstanbul     Turkey   \n",
      "4  Guatemala City  Guatemala   \n",
      "\n",
      "                                         information  \\\n",
      "0  Qualquer pessoa que resolva o Cubo Mágico em m...   \n",
      "1  [TR] Kayıt sırasında adınızı ve soyadınızı lüt...   \n",
      "2  [TR] Kayıt sırasında adınızı ve soyadınızı lüt...   \n",
      "3  [TR] Kayıt sırasında adınızı ve soyadınızı lüt...   \n",
      "4  Ésta es una competencia conmemorativa en honor...   \n",
      "\n",
      "                                               venue  \\\n",
      "0  [Mérito Pré-Vestibulares](https://www.facebook...   \n",
      "1   TMMOB Teoman Öztürk Öğrenci Evi ve Sosyal Tesisi   \n",
      "2  [Bil Koleji Ümraniye Yerleşkesi](https://bilok...   \n",
      "3  [MBA Okulları Çamlıca Yerleşkesi](https://www....   \n",
      "4               [Colegio Caré](https://care.edu.gt/)   \n",
      "\n",
      "                                        venueAddress  \\\n",
      "0     Avenida Mendonça Furtado, 1120 - CEP: 68040050   \n",
      "1  Mehmet Akif Ersoy, 295. Sk. No:6, 06200 Yenima...   \n",
      "2  Cemil Meriç, Alemdağ Cd No:321, 34771 Dudullu ...   \n",
      "3  Küçük Çamlıca, Libadiye Cd. No:30, 34692 Üsküd...   \n",
      "4                            23 calle 15-45, zona 13   \n",
      "\n",
      "                       venueDetails external_website  \\\n",
      "0  Próximo ao Colégio São Francisco              NaN   \n",
      "1                 6.kat / 6th floor              NaN   \n",
      "2                        Yemek katı              NaN   \n",
      "3           Yemekhane / Dining Hall              NaN   \n",
      "4                               NaN              NaN   \n",
      "\n",
      "                           cellName  ...  longitude  cancelled  \\\n",
      "0                  100º Mérito 2018  ...  -54712597          0   \n",
      "1    100 Years Republic Ankara 2023  ...   32766238          0   \n",
      "2  100 Years Republic İstanbul 2023  ...   29142873          0   \n",
      "3    100. Yıl MBA Cube Weekend 2023  ...   29074717          0   \n",
      "4     10 Aniversario Guatemala 2023  ...  -90525865          1   \n",
      "\n",
      "                                          eventSpecs  \\\n",
      "0                222 333 333bf 333ft 444 pyram skewb   \n",
      "1        222 333 333oh 444 555 clock pyram skewb sq1   \n",
      "2  222 333 333bf 333oh 444 555 clock pyram skewb sq1   \n",
      "3  222 333 333bf 333oh 444 555 666 777 clock minx...   \n",
      "4             222 333 333bf 333oh 444 555 minx pyram   \n",
      "\n",
      "                                         wcaDelegate  \\\n",
      "0  [{Rafael de Andrade Cinoto}{mailto:rafael@cino...   \n",
      "1  [{Can Ersoy}{mailto:cersoy@worldcubeassociatio...   \n",
      "2  [{Mustafa Çamlıca}{mailto:mcamlica@worldcubeas...   \n",
      "3  [{Mustafa Çamlıca}{mailto:mcamlica@worldcubeas...   \n",
      "4  [{Adrián Ramírez}{mailto:aramirez@worldcubeass...   \n",
      "\n",
      "                                           organiser  year  month  day  \\\n",
      "0  [{Davi de Andrade Iácono}{mailto:diacono@world...  2018      4   14   \n",
      "1  [{İskender Aznavur}{mailto:i.kuleli@gmail.com}...  2023     10   28   \n",
      "2  [{Alper Şakım}{mailto:alpersakim2@gmail.com}] ...  2023     10   28   \n",
      "3  [{Alper Şakım}{mailto:alpersakim2@gmail.com}] ...  2023     12   16   \n",
      "4    [{Nancy Ramírez}{mailto:nancy.r1116@gmail.com}]  2023     10   14   \n",
      "\n",
      "   endMonth  endDay  \n",
      "0         4      14  \n",
      "1        10      29  \n",
      "2        10      29  \n",
      "3        12      17  \n",
      "4        10      15  \n",
      "\n",
      "[5 rows x 21 columns]\n"
     ]
    }
   ],
   "source": [
    "competitions = pd.read_csv(\"WCA_export_Competitions.tsv\", sep=\"\\t\")\n",
    "print(competitions.head())"
   ]
  },
  {
   "cell_type": "code",
   "execution_count": null,
   "id": "1371e0d9-07a9-4171-8e52-a8aac741869f",
   "metadata": {},
   "outputs": [],
   "source": []
  }
 ],
 "metadata": {
  "kernelspec": {
   "display_name": "Python [conda env:base] *",
   "language": "python",
   "name": "conda-base-py"
  },
  "language_info": {
   "codemirror_mode": {
    "name": "ipython",
    "version": 3
   },
   "file_extension": ".py",
   "mimetype": "text/x-python",
   "name": "python",
   "nbconvert_exporter": "python",
   "pygments_lexer": "ipython3",
   "version": "3.12.3"
  }
 },
 "nbformat": 4,
 "nbformat_minor": 5
}
