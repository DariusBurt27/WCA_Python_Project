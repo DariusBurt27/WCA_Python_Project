{
 "cells": [
  {
   "cell_type": "markdown",
   "id": "bb9fed88-3962-4180-b08f-8b6baa9386c2",
   "metadata": {},
   "source": [
    "# Analyzing Data From WCA Competitions"
   ]
  },
  {
   "cell_type": "markdown",
   "id": "64c1bcf3-dbe5-4eff-bc98-4d0c894fbacf",
   "metadata": {},
   "source": [
    "In this project I use python to analyze data on Rubik's Cube competitions hosted by the WCA, or \"World Cube Association.\" \n",
    "Many different events are held besides the traditional 3x3 cube. There are a total of 17 events, including 3x3 blindfolded and 7x7. The competitions are structured in the following manner: There are a certain number of rounds for each event, typically 2-4 rounds. In each round, competitors will generally do 5 solves. The worst and best time are thrown out and the middle 3 are averaged. This determines the ranking for the competitors in each round. Less competitors advanced after each round, with the final round typically being 12-16 competitors. The person with the fastest average time in the final round wins the event for that competition. For more information on the WCA and WCA competitions, visit the WCA website [here](https://www.worldcubeassociation.org/). The dataset can be exported from [here](https://www.worldcubeassociation.org/export/results)."
   ]
  },
  {
   "cell_type": "markdown",
   "id": "9fa55166-b545-40a9-9e9b-1b68b03b7e77",
   "metadata": {},
   "source": [
    "## Loading the Data"
   ]
  },
  {
   "cell_type": "markdown",
   "id": "fd7b469f-267a-4d8c-b5c2-e883f5e61601",
   "metadata": {},
   "source": [
    "First we will import the necessary libraries."
   ]
  },
  {
   "cell_type": "code",
   "execution_count": 32,
   "id": "6a6f7a1b-40ae-417e-b0f2-098ce9cff42b",
   "metadata": {},
   "outputs": [],
   "source": [
    "import pandas as pd"
   ]
  },
  {
   "cell_type": "markdown",
   "id": "ae424b20-1525-4a01-b262-dd1e86fadcf7",
   "metadata": {},
   "source": [
    "Next we need to read the data into pandas dataframes. The data was exported from the WCA website in tsv format. The necessary data is contained within 3 seperate tsv files we need to read. Firstly, there is the \"results\" file. This file shows information on individual averages done in WCA competitions. Secondly, there is the \"persons\" file, which shows information on every WCA competitor. We will use this file only to get the gender of each competitor. Finally, there is the \"competitions\" file, which contains information on individual WCA competitions. "
   ]
  },
  {
   "cell_type": "code",
   "execution_count": 18,
   "id": "35baf77f-eb11-4a90-90bc-714a1ddedf38",
   "metadata": {},
   "outputs": [
    {
     "name": "stdout",
     "output_type": "stream",
     "text": [
      "  competitionId eventId roundTypeId               personName    personId  \\\n",
      "0  LyonOpen2007     333           1            Etienne Amany  2007AMAN01   \n",
      "1  LyonOpen2007     333           1           Thomas Rouault  2004ROUA01   \n",
      "2  LyonOpen2007     333           1  Antoine Simon-Chautemps  2005SIMO01   \n",
      "3  LyonOpen2007     333           1           Irène Mallordy  2007MALL01   \n",
      "4  LyonOpen2007     333           1       Marlène Desmaisons  2007DESM01   \n",
      "\n",
      "   value1  value2  value3  value4  value5 personCountryId  \n",
      "0    1968    2203    2138    2139    2108   Cote d_Ivoire  \n",
      "1    2222    2153    1731    2334    2046          France  \n",
      "2    3430    2581    2540    2789    2305          France  \n",
      "3    2715    2452    2868    2632    2564          France  \n",
      "4    2921    3184    2891    2677    2907          France  \n"
     ]
    }
   ],
   "source": [
    "results = pd.read_csv(r'Data/WCA_export_Results.tsv', sep='\\t', usecols=[\"competitionId\", \"eventId\", \"roundTypeId\", \"personName\", \"personId\", \"value1\", \"value2\", \"value3\", \"value4\", \"value5\", \"personCountryId\"])\n",
    "print(results.head())"
   ]
  },
  {
   "cell_type": "code",
   "execution_count": 10,
   "id": "44fa8703-2964-4082-8805-99dca2a66c58",
   "metadata": {},
   "outputs": [
    {
     "name": "stdout",
     "output_type": "stream",
     "text": [
      "  gender          id\n",
      "0      m  1982BORS01\n",
      "1      m  1982BRIN01\n",
      "2      m  1982CHIL01\n",
      "3      f  1982FRID01\n",
      "4      f  1982FRID01\n"
     ]
    }
   ],
   "source": [
    "persons = pd.read_csv(r\"Data/WCA_export_Persons.tsv\", sep=\"\\t\", usecols=[\"id\", \"gender\"])\n",
    "print(persons.head())"
   ]
  },
  {
   "cell_type": "code",
   "execution_count": 12,
   "id": "8cacec5e-d8aa-4155-8f0e-dc3cf96c5781",
   "metadata": {},
   "outputs": [
    {
     "name": "stdout",
     "output_type": "stream",
     "text": [
      "                             id  countryId  year  month  day\n",
      "0                 100Merito2018     Brazil  2018      4   14\n",
      "1    100YearsRepublicAnkara2023     Turkey  2023     10   28\n",
      "2  100YearsRepublicIstanbul2023     Turkey  2023     10   28\n",
      "3      100YilMBACubeWeekend2023     Turkey  2023     12   16\n",
      "4    10AniversarioGuatemala2023  Guatemala  2023     10   14\n"
     ]
    }
   ],
   "source": [
    "competitions = pd.read_csv(r\"Data/WCA_export_Competitions.tsv\", sep=\"\\t\", usecols=[\"id\", \"countryId\", \"year\", \"month\", \"day\"])\n",
    "print(competitions.head())"
   ]
  },
  {
   "cell_type": "markdown",
   "id": "99caf73c-bb9b-43ef-bac1-bea44d63fb69",
   "metadata": {},
   "source": [
    "## Data Cleaning and Wrangling"
   ]
  },
  {
   "cell_type": "markdown",
   "id": "c4ef306b-2085-4fc5-b16e-356abe719f22",
   "metadata": {},
   "source": [
    "Next, we need to merge the datasets together into one dataframe."
   ]
  },
  {
   "cell_type": "code",
   "execution_count": 29,
   "id": "f1a2151f-a474-41fc-9602-88ddc0ffb5e2",
   "metadata": {},
   "outputs": [
    {
     "name": "stdout",
     "output_type": "stream",
     "text": [
      "  eventId roundTypeId               personName    personId  value1  value2  \\\n",
      "0     333           1            Etienne Amany  2007AMAN01    1968    2203   \n",
      "1     333           1           Thomas Rouault  2004ROUA01    2222    2153   \n",
      "2     333           1  Antoine Simon-Chautemps  2005SIMO01    3430    2581   \n",
      "3     333           1           Irène Mallordy  2007MALL01    2715    2452   \n",
      "4     333           1       Marlène Desmaisons  2007DESM01    2921    3184   \n",
      "\n",
      "   value3  value4  value5 personCountryId gender competitionCountryId  year  \\\n",
      "0    2138    2139    2108   Cote d_Ivoire      m               France  2007   \n",
      "1    1731    2334    2046          France      m               France  2007   \n",
      "2    2540    2789    2305          France      m               France  2007   \n",
      "3    2868    2632    2564          France      f               France  2007   \n",
      "4    2891    2677    2907          France      f               France  2007   \n",
      "\n",
      "   month  day  \n",
      "0      9    1  \n",
      "1      9    1  \n",
      "2      9    1  \n",
      "3      9    1  \n",
      "4      9    1  \n"
     ]
    }
   ],
   "source": [
    "data = results.merge(persons, left_on = \"personId\", right_on = \"id\")\n",
    "data = data.merge(competitions, left_on = \"competitionId\", right_on = \"id\")\n",
    "data = data.drop(columns=[\"id_x\", \"id_y\", \"competitionId\"])\n",
    "data= data.rename(columns={\"countryId\": \"competitionCountryId\"})\n",
    "print(data.head())"
   ]
  },
  {
   "cell_type": "markdown",
   "id": "72f10b20-bbb8-4c1a-81bf-535908bcf7ce",
   "metadata": {},
   "source": [
    "Now we need to reformat the data a bit. I want every row in dataframe to be for one solve, so I need to combine the value columns into a single column."
   ]
  },
  {
   "cell_type": "code",
   "execution_count": null,
   "id": "208d0f38-390e-45be-a250-fecdfcfbf408",
   "metadata": {},
   "outputs": [],
   "source": []
  }
 ],
 "metadata": {
  "kernelspec": {
   "display_name": "Python [conda env:base] *",
   "language": "python",
   "name": "conda-base-py"
  },
  "language_info": {
   "codemirror_mode": {
    "name": "ipython",
    "version": 3
   },
   "file_extension": ".py",
   "mimetype": "text/x-python",
   "name": "python",
   "nbconvert_exporter": "python",
   "pygments_lexer": "ipython3",
   "version": "3.12.3"
  }
 },
 "nbformat": 4,
 "nbformat_minor": 5
}
