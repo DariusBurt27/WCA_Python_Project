{
 "cells": [
  {
   "cell_type": "markdown",
   "id": "fb617ed4-d921-44d1-ab9a-d84ee0432fdc",
   "metadata": {},
   "source": [
    "Here I print out the statement \"Hello World\"."
   ]
  },
  {
   "cell_type": "code",
   "execution_count": null,
   "id": "0e1d6aca-b042-469f-9c04-6dbb3a92506f",
   "metadata": {},
   "outputs": [],
   "source": [
    "print(\"Hello World\")"
   ]
  }
 ],
 "metadata": {
  "kernelspec": {
   "display_name": "Python [conda env:base] *",
   "language": "python",
   "name": "conda-base-py"
  },
  "language_info": {
   "codemirror_mode": {
    "name": "ipython",
    "version": 3
   },
   "file_extension": ".py",
   "mimetype": "text/x-python",
   "name": "python",
   "nbconvert_exporter": "python",
   "pygments_lexer": "ipython3",
   "version": "3.12.3"
  }
 },
 "nbformat": 4,
 "nbformat_minor": 5
}
